{
  "nbformat": 4,
  "nbformat_minor": 0,
  "metadata": {
    "colab": {
      "name": "Untitled0.ipynb",
      "provenance": [],
      "authorship_tag": "ABX9TyNQyVvvl1D5QFngQE0rk1pu",
      "include_colab_link": true
    },
    "kernelspec": {
      "name": "python3",
      "display_name": "Python 3"
    }
  },
  "cells": [
    {
      "cell_type": "markdown",
      "metadata": {
        "id": "view-in-github",
        "colab_type": "text"
      },
      "source": [
        "<a href=\"https://colab.research.google.com/github/mallik005/Data_science_use_cases/blob/master/deep_learning_sample.ipynb\" target=\"_parent\"><img src=\"https://colab.research.google.com/assets/colab-badge.svg\" alt=\"Open In Colab\"/></a>"
      ]
    },
    {
      "cell_type": "code",
      "metadata": {
        "id": "HmJQXFweyZCi",
        "colab_type": "code",
        "colab": {
          "base_uri": "https://localhost:8080/",
          "height": 34
        },
        "outputId": "2db3a8ab-a1ec-4aae-e53a-51d79ec72636"
      },
      "source": [
        "import keras"
      ],
      "execution_count": 1,
      "outputs": [
        {
          "output_type": "stream",
          "text": [
            "Using TensorFlow backend.\n"
          ],
          "name": "stderr"
        }
      ]
    },
    {
      "cell_type": "code",
      "metadata": {
        "id": "r9f9Btv6ycQZ",
        "colab_type": "code",
        "colab": {}
      },
      "source": [
        "from keras.layers import Dense"
      ],
      "execution_count": 0,
      "outputs": []
    },
    {
      "cell_type": "code",
      "metadata": {
        "id": "kF45GPeiyqpk",
        "colab_type": "code",
        "colab": {}
      },
      "source": [
        "from keras.datasets import fashion_mnist"
      ],
      "execution_count": 0,
      "outputs": []
    },
    {
      "cell_type": "code",
      "metadata": {
        "id": "EcbWQC40y2if",
        "colab_type": "code",
        "colab": {
          "base_uri": "https://localhost:8080/",
          "height": 153
        },
        "outputId": "26383bea-eaea-4d4f-9e2e-20feebfff76d"
      },
      "source": [
        "(x_train,x_test),(y_train,y_test)=fashion_mnist.load_data()"
      ],
      "execution_count": 5,
      "outputs": [
        {
          "output_type": "stream",
          "text": [
            "Downloading data from http://fashion-mnist.s3-website.eu-central-1.amazonaws.com/train-labels-idx1-ubyte.gz\n",
            "32768/29515 [=================================] - 0s 3us/step\n",
            "Downloading data from http://fashion-mnist.s3-website.eu-central-1.amazonaws.com/train-images-idx3-ubyte.gz\n",
            "26427392/26421880 [==============================] - 2s 0us/step\n",
            "Downloading data from http://fashion-mnist.s3-website.eu-central-1.amazonaws.com/t10k-labels-idx1-ubyte.gz\n",
            "8192/5148 [===============================================] - 0s 0us/step\n",
            "Downloading data from http://fashion-mnist.s3-website.eu-central-1.amazonaws.com/t10k-images-idx3-ubyte.gz\n",
            "4423680/4422102 [==============================] - 1s 0us/step\n"
          ],
          "name": "stdout"
        }
      ]
    },
    {
      "cell_type": "code",
      "metadata": {
        "id": "kYWHqJRIzCe0",
        "colab_type": "code",
        "colab": {
          "base_uri": "https://localhost:8080/",
          "height": 275
        },
        "outputId": "21b665ca-94b4-41cc-9363-61c0f942310d"
      },
      "source": [
        "import matplotlib.pyplot as plt\n",
        "plt.matshow(x_train[0])\n",
        "plt.show()"
      ],
      "execution_count": 7,
      "outputs": [
        {
          "output_type": "display_data",
          "data": {
            "image/png": "[encoded data removed]",
            "text/plain": [
              "<Figure size 288x288 with 1 Axes>"
            ]
          },
          "metadata": {
            "tags": [],
            "needs_background": "light"
          }
        }
      ]
    },
    {
      "cell_type": "code",
      "metadata": {
        "id": "zWIxeO2IzPS1",
        "colab_type": "code",
        "colab": {
          "base_uri": "https://localhost:8080/",
          "height": 1000
        },
        "outputId": "9a186cf2-c9eb-47b6-df21-03264b23abc9"
      },
      "source": [
        "y_train[1]"
      ],
      "execution_count": 9,
      "outputs": [
        {
          "output_type": "execute_result",
          "data": {
            "text/plain": [
              "array([[  0,   0,   0,   0,   0,   0,   0,   0,   0,   0,  13,  67,   0,\n",
              "          0,   0,   0,  50,  38,   0,   0,   0,   0,   0,   0,   0,   0,\n",
              "          0,   0],\n",
              "       [  0,   0,   0,   0,   0,   0,   0,   8, 120, 209, 226, 247, 237,\n",
              "        255, 255, 255, 247, 238, 235, 172,  72,   0,   0,   0,   0,   0,\n",
              "          0,   0],\n",
              "       [  0,   0,   0,   0,   0,   0, 137, 239, 252, 243, 234, 229, 238,\n",
              "        244, 246, 240, 230, 232, 239, 248, 251, 194,   0,   0,   0,   0,\n",
              "          0,   0],\n",
              "       [  0,   0,   0,   0,   0, 102, 255, 231, 228, 227, 228, 233, 230,\n",
              "        230, 229, 228, 232, 232, 231, 227, 224, 252, 179,   0,   0,   0,\n",
              "          0,   0],\n",
              "       [  0,   0,   0,   0,   0, 233, 241, 229, 231, 255, 255, 238, 231,\n",
              "        227, 238, 246, 228, 230, 227, 234, 235, 229, 241,  20,   0,   0,\n",
              "          0,   0],\n",
              "       [  0,   0,   0,   0,   0, 248, 241, 231, 255, 149,  47, 252, 228,\n",
              "        255, 242, 216, 238, 232, 255, 228, 220, 234, 250,  54,   0,   0,\n",
              "          0,   0],\n",
              "       [  0,   0,   0,   0,   0, 255, 240, 232, 255,  15,   0, 255, 237,\n",
              "        191,   0,   0, 214, 255,  13, 123, 255, 234, 252, 114,   0,   0,\n",
              "          0,   0],\n",
              "       [  0,   0,   0,   0,   6, 255, 238, 239, 255, 177,   0, 255, 255,\n",
              "          0, 130, 116,  47,  65,  43,  37, 255, 236, 249, 162,   0,   0,\n",
              "          0,   0],\n",
              "       [  0,   0,   0,   0,  32, 255, 236, 245, 255, 204,   0, 255,  84,\n",
              "          0,  37,  28,  31,   0,  25,  13, 255, 236, 249, 199,   0,   0,\n",
              "          0,   0],\n",
              "       [  0,   0,   0,   0,  53, 255, 236, 250, 250, 231,   2, 255,  21,\n",
              "          0, 221, 255, 236,  54, 245, 198, 243, 238, 245, 223,   0,   0,\n",
              "          0,   0],\n",
              "       [  0,   0,   0,   0,  80, 255, 237, 250, 240, 255,   0,   0,  39,\n",
              "        157,   0,   0, 215,  94,  20, 126, 255, 237, 239, 250,   0,   0,\n",
              "          0,   0],\n",
              "       [  0,   0,   0,   0, 101, 255, 235, 253, 244, 243, 133, 138, 208,\n",
              "        255, 201, 214, 255, 230,   7, 174, 255, 240, 238, 255,   0,   0,\n",
              "          0,   0],\n",
              "       [  0,   0,   0,   0, 126, 255, 233, 255, 248, 233, 255, 255, 240,\n",
              "        232, 243, 243, 231, 251, 255, 255, 254, 243, 238, 255,   3,   0,\n",
              "          0,   0],\n",
              "       [  0,   0,   0,   0, 147, 255, 233, 249, 181, 243, 227, 224, 230,\n",
              "        234, 230, 230, 235, 228, 235, 222, 207, 255, 236, 255,  35,   0,\n",
              "          0,   0],\n",
              "       [  0,   0,   0,   0, 163, 255, 245, 221,  86, 255, 233, 233, 235,\n",
              "        236, 234, 234, 234, 232, 242, 231, 125, 255, 236, 255,  55,   0,\n",
              "          0,   0],\n",
              "       [  0,   0,   0,   0, 181, 254, 255, 200,  69, 255, 228, 232, 234,\n",
              "        235, 234, 234, 233, 235, 241, 237,  70, 255, 235, 246,  57,   0,\n",
              "          0,   0],\n",
              "       [  0,   0,   0,   0, 197, 247, 255, 188, 110, 255, 224, 233, 234,\n",
              "        234, 234, 234, 234, 234, 240, 253,  69, 255, 236, 248,  77,   0,\n",
              "          0,   0],\n",
              "       [  0,   0,   0,   0, 200, 246, 255, 149, 145, 255, 223, 235, 234,\n",
              "        235, 235, 235, 234, 237, 233, 255,  47, 255, 239, 249,  98,   0,\n",
              "          0,   0],\n",
              "       [  0,   0,   0,   0, 204, 243, 255, 111, 173, 255, 227, 235, 235,\n",
              "        236, 235, 235, 235, 239, 229, 255,  19, 227, 246, 249, 110,   0,\n",
              "          0,   0],\n",
              "       [  0,   0,   0,   0, 196, 240, 255, 109, 213, 250, 229, 235, 235,\n",
              "        236, 235, 237, 236, 237, 226, 255,  55, 203, 251, 245, 120,   0,\n",
              "          0,   0],\n",
              "       [  0,   0,   0,   0, 192, 243, 255, 114, 232, 240, 232, 235, 235,\n",
              "        236, 234, 237, 236, 235, 229, 255, 134, 171, 252, 244, 137,   0,\n",
              "          0,   0],\n",
              "       [  0,   0,   0,   0, 189, 251, 255, 154, 238, 233, 236, 234, 235,\n",
              "        236, 235, 238, 236, 235, 232, 255, 166, 125, 255, 243, 142,   0,\n",
              "          0,   0],\n",
              "       [  0,   0,   0,   0, 183, 252, 255, 171, 247, 232, 234, 234, 233,\n",
              "        233, 232, 234, 233, 234, 233, 240, 223, 128, 255, 242, 151,   0,\n",
              "          0,   0],\n",
              "       [  0,   0,   0,   0, 178, 243, 255,  57, 238, 241, 238, 238, 238,\n",
              "        237, 236, 237, 237, 240, 237, 254, 176,  52, 255, 239, 157,   0,\n",
              "          0,   0],\n",
              "       [  0,   0,   0,   0, 188, 240, 250,  62, 218, 255, 220, 222, 222,\n",
              "        222, 223, 223, 224, 222, 218, 255, 154,  32, 255, 236, 188,   0,\n",
              "          0,   0],\n",
              "       [  0,   0,   0,   0, 130, 245, 242,  24,   0,   0,   0,   0,   0,\n",
              "          0,   0,   0,   0,   0,   0,   0,   0,  34, 242, 244, 135,   0,\n",
              "          0,   0],\n",
              "       [  0,   0,   0,   0,  76, 255, 249,  22,   0,   0,   0,   0,   0,\n",
              "          0,   0,   0,   0,   0,   0,   0,   0,  39, 249, 255, 123,   0,\n",
              "          0,   0],\n",
              "       [  0,   0,   0,   0,  49, 205, 197,  11,   0,   4,   1,   2,   2,\n",
              "          2,   2,   2,   2,   2,   2,   3,   0,   3, 174, 189,  67,   0,\n",
              "          0,   0]], dtype=uint8)"
            ]
          },
          "metadata": {
            "tags": []
          },
          "execution_count": 9
        }
      ]
    },
    {
      "cell_type": "code",
      "metadata": {
        "id": "l3QaP9FhzYXv",
        "colab_type": "code",
        "colab": {}
      },
      "source": [
        "x_train=x_train/255"
      ],
      "execution_count": 0,
      "outputs": []
    },
    {
      "cell_type": "code",
      "metadata": {
        "id": "3so3SqxhzmEg",
        "colab_type": "code",
        "colab": {}
      },
      "source": [
        "y_train=y_train/255"
      ],
      "execution_count": 0,
      "outputs": []
    },
    {
      "cell_type": "code",
      "metadata": {
        "id": "KLFsCyFtzoDf",
        "colab_type": "code",
        "colab": {}
      },
      "source": [
        "from keras.models import Sequential\n",
        "from keras.layers import Dense,Activation,Flatten\n"
      ],
      "execution_count": 0,
      "outputs": []
    },
    {
      "cell_type": "code",
      "metadata": {
        "id": "qKROhH6Kz2XB",
        "colab_type": "code",
        "colab": {}
      },
      "source": [
        "model=Sequential()\n",
        "model.add(Flatten(input_shape=[28,28]))"
      ],
      "execution_count": 0,
      "outputs": []
    },
    {
      "cell_type": "code",
      "metadata": {
        "id": "5SRSuOCd0ErE",
        "colab_type": "code",
        "colab": {}
      },
      "source": [
        "model.add(Dense(20,activation='relu'))\n",
        "model.add(Dense(10,activation='softmax'))\n"
      ],
      "execution_count": 0,
      "outputs": []
    },
    {
      "cell_type": "code",
      "metadata": {
        "id": "o0BsG28M0qzu",
        "colab_type": "code",
        "colab": {
          "base_uri": "https://localhost:8080/",
          "height": 255
        },
        "outputId": "d3da880b-7552-4a90-8491-e77f4bb658e2"
      },
      "source": [
        "model.summary()"
      ],
      "execution_count": 16,
      "outputs": [
        {
          "output_type": "stream",
          "text": [
            "Model: \"sequential_1\"\n",
            "_________________________________________________________________\n",
            "Layer (type)                 Output Shape              Param #   \n",
            "=================================================================\n",
            "flatten_1 (Flatten)          (None, 784)               0         \n",
            "_________________________________________________________________\n",
            "dense_1 (Dense)              (None, 20)                15700     \n",
            "_________________________________________________________________\n",
            "dense_2 (Dense)              (None, 10)                210       \n",
            "=================================================================\n",
            "Total params: 15,910\n",
            "Trainable params: 15,910\n",
            "Non-trainable params: 0\n",
            "_________________________________________________________________\n"
          ],
          "name": "stdout"
        }
      ]
    },
    {
      "cell_type": "code",
      "metadata": {
        "id": "d6DCciKd0s_6",
        "colab_type": "code",
        "colab": {}
      },
      "source": [
        "model.compile(loss='sparse_categorical_crossentropy',optimizer='adam',metrics=[\"accuracy\"])"
      ],
      "execution_count": 0,
      "outputs": []
    },
    {
      "cell_type": "code",
      "metadata": {
        "id": "IBKjj4oZ1ChS",
        "colab_type": "code",
        "colab": {
          "base_uri": "https://localhost:8080/",
          "height": 306
        },
        "outputId": "e7192d4e-4ebd-434b-9f62-5d543a065b98"
      },
      "source": [
        "model.fit(x_train,y_train)"
      ],
      "execution_count": 18,
      "outputs": [
        {
          "output_type": "error",
          "ename": "ValueError",
          "evalue": "ignored",
          "traceback": [
            "\u001b[0;31m---------------------------------------------------------------------------\u001b[0m",
            "\u001b[0;31mValueError\u001b[0m                                Traceback (most recent call last)",
            "\u001b[0;32m<ipython-input-18-4719cf73997a>\u001b[0m in \u001b[0;36m<module>\u001b[0;34m()\u001b[0m\n\u001b[0;32m----> 1\u001b[0;31m \u001b[0mmodel\u001b[0m\u001b[0;34m.\u001b[0m\u001b[0mfit\u001b[0m\u001b[0;34m(\u001b[0m\u001b[0mx_train\u001b[0m\u001b[0;34m,\u001b[0m\u001b[0my_train\u001b[0m\u001b[0;34m)\u001b[0m\u001b[0;34m\u001b[0m\u001b[0;34m\u001b[0m\u001b[0m\n\u001b[0m",
            "\u001b[0;32m/usr/local/lib/python3.6/dist-packages/keras/engine/training.py\u001b[0m in \u001b[0;36mfit\u001b[0;34m(self, x, y, batch_size, epochs, verbose, callbacks, validation_split, validation_data, shuffle, class_weight, sample_weight, initial_epoch, steps_per_epoch, validation_steps, validation_freq, max_queue_size, workers, use_multiprocessing, **kwargs)\u001b[0m\n\u001b[1;32m   1152\u001b[0m             \u001b[0msample_weight\u001b[0m\u001b[0;34m=\u001b[0m\u001b[0msample_weight\u001b[0m\u001b[0;34m,\u001b[0m\u001b[0;34m\u001b[0m\u001b[0;34m\u001b[0m\u001b[0m\n\u001b[1;32m   1153\u001b[0m             \u001b[0mclass_weight\u001b[0m\u001b[0;34m=\u001b[0m\u001b[0mclass_weight\u001b[0m\u001b[0;34m,\u001b[0m\u001b[0;34m\u001b[0m\u001b[0;34m\u001b[0m\u001b[0m\n\u001b[0;32m-> 1154\u001b[0;31m             batch_size=batch_size)\n\u001b[0m\u001b[1;32m   1155\u001b[0m \u001b[0;34m\u001b[0m\u001b[0m\n\u001b[1;32m   1156\u001b[0m         \u001b[0;31m# Prepare validation data.\u001b[0m\u001b[0;34m\u001b[0m\u001b[0;34m\u001b[0m\u001b[0;34m\u001b[0m\u001b[0m\n",
            "\u001b[0;32m/usr/local/lib/python3.6/dist-packages/keras/engine/training.py\u001b[0m in \u001b[0;36m_standardize_user_data\u001b[0;34m(self, x, y, sample_weight, class_weight, check_array_lengths, batch_size)\u001b[0m\n\u001b[1;32m    619\u001b[0m                 \u001b[0mfeed_output_shapes\u001b[0m\u001b[0;34m,\u001b[0m\u001b[0;34m\u001b[0m\u001b[0;34m\u001b[0m\u001b[0m\n\u001b[1;32m    620\u001b[0m                 \u001b[0mcheck_batch_axis\u001b[0m\u001b[0;34m=\u001b[0m\u001b[0;32mFalse\u001b[0m\u001b[0;34m,\u001b[0m  \u001b[0;31m# Don't enforce the batch size.\u001b[0m\u001b[0;34m\u001b[0m\u001b[0;34m\u001b[0m\u001b[0m\n\u001b[0;32m--> 621\u001b[0;31m                 exception_prefix='target')\n\u001b[0m\u001b[1;32m    622\u001b[0m \u001b[0;34m\u001b[0m\u001b[0m\n\u001b[1;32m    623\u001b[0m             \u001b[0;31m# Generate sample-wise weight values given the `sample_weight` and\u001b[0m\u001b[0;34m\u001b[0m\u001b[0;34m\u001b[0m\u001b[0;34m\u001b[0m\u001b[0m\n",
            "\u001b[0;32m/usr/local/lib/python3.6/dist-packages/keras/engine/training_utils.py\u001b[0m in \u001b[0;36mstandardize_input_data\u001b[0;34m(data, names, shapes, check_batch_axis, exception_prefix)\u001b[0m\n\u001b[1;32m    133\u001b[0m                         \u001b[0;34m': expected '\u001b[0m \u001b[0;34m+\u001b[0m \u001b[0mnames\u001b[0m\u001b[0;34m[\u001b[0m\u001b[0mi\u001b[0m\u001b[0;34m]\u001b[0m \u001b[0;34m+\u001b[0m \u001b[0;34m' to have '\u001b[0m \u001b[0;34m+\u001b[0m\u001b[0;34m\u001b[0m\u001b[0;34m\u001b[0m\u001b[0m\n\u001b[1;32m    134\u001b[0m                         \u001b[0mstr\u001b[0m\u001b[0;34m(\u001b[0m\u001b[0mlen\u001b[0m\u001b[0;34m(\u001b[0m\u001b[0mshape\u001b[0m\u001b[0;34m)\u001b[0m\u001b[0;34m)\u001b[0m \u001b[0;34m+\u001b[0m \u001b[0;34m' dimensions, but got array '\u001b[0m\u001b[0;34m\u001b[0m\u001b[0;34m\u001b[0m\u001b[0m\n\u001b[0;32m--> 135\u001b[0;31m                         'with shape ' + str(data_shape))\n\u001b[0m\u001b[1;32m    136\u001b[0m                 \u001b[0;32mif\u001b[0m \u001b[0;32mnot\u001b[0m \u001b[0mcheck_batch_axis\u001b[0m\u001b[0;34m:\u001b[0m\u001b[0;34m\u001b[0m\u001b[0;34m\u001b[0m\u001b[0m\n\u001b[1;32m    137\u001b[0m                     \u001b[0mdata_shape\u001b[0m \u001b[0;34m=\u001b[0m \u001b[0mdata_shape\u001b[0m\u001b[0;34m[\u001b[0m\u001b[0;36m1\u001b[0m\u001b[0;34m:\u001b[0m\u001b[0;34m]\u001b[0m\u001b[0;34m\u001b[0m\u001b[0;34m\u001b[0m\u001b[0m\n",
            "\u001b[0;31mValueError\u001b[0m: Error when checking target: expected dense_2 to have 2 dimensions, but got array with shape (10000, 28, 28)"
          ]
        }
      ]
    },
    {
      "cell_type": "code",
      "metadata": {
        "id": "4vr0AQ_-1JwL",
        "colab_type": "code",
        "colab": {}
      },
      "source": [
        ""
      ],
      "execution_count": 0,
      "outputs": []
    }
  ]
}